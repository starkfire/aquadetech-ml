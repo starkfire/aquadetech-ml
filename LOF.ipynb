{
 "cells": [
  {
   "cell_type": "code",
   "execution_count": 2,
   "metadata": {},
   "outputs": [],
   "source": [
    "import numpy as np\n",
    "import pandas as pd\n",
    "import matplotlib.pyplot as plt\n",
    "import seaborn as sns\n",
    "import time\n",
    "from sklearn.neighbors import LocalOutlierFactor\n",
    "from sklearn.linear_model import LogisticRegression\n",
    "from sklearn.metrics import confusion_matrix, plot_confusion_matrix\n",
    "from sklearn.model_selection import train_test_split\n",
    "\n",
    "import warnings\n",
    "warnings.filterwarnings(\"ignore\")"
   ]
  },
  {
   "cell_type": "markdown",
   "metadata": {},
   "source": [
    "# Local Outlier Factor \n",
    "### unsupervised (semi-supervised) anomaly detection machine leaning algorithm "
   ]
  },
  {
   "cell_type": "code",
   "execution_count": 3,
   "metadata": {},
   "outputs": [],
   "source": [
    "normal = pd.read_csv('Normal.csv')\n",
    "normal = normal.drop(['User'], axis=1)"
   ]
  },
  {
   "cell_type": "code",
   "execution_count": 4,
   "metadata": {},
   "outputs": [],
   "source": [
    "abnormal = pd.read_csv('Abnormal.csv')\n",
    "abnormal = abnormal.drop(['User'], axis=1)"
   ]
  },
  {
   "cell_type": "code",
   "execution_count": 5,
   "metadata": {},
   "outputs": [],
   "source": [
    "combined = pd.read_csv('Combined.csv')"
   ]
  },
  {
   "cell_type": "code",
   "execution_count": 6,
   "metadata": {
    "scrolled": true
   },
   "outputs": [
    {
     "name": "stdout",
     "output_type": "stream",
     "text": [
      "normal\n",
      "1 [17.135]\n",
      "1 [15.972]\n",
      "1 [25.729]\n",
      "1 [17.787]\n",
      "1 [17.286]\n",
      "1 [21.169]\n",
      "1 [28.685]\n",
      "1 [21.328]\n",
      "1 [17.818]\n",
      "1 [21.667]\n",
      "1 [17.616]\n",
      "1 [22.182]\n",
      "1 [27.491]\n",
      "1 [27.953]\n",
      "1 [17.645]\n",
      "1 [26.142]\n",
      "1 [24.72]\n",
      "1 [26.346]\n",
      "1 [20.361]\n",
      "1 [18.388]\n",
      "1 [24.114]\n",
      "1 [22.071]\n",
      "1 [19.106]\n",
      "1 [22.04]\n",
      "1 [27.666]\n",
      "1 [28.388]\n",
      "1 [20.047]\n",
      "1 [20.655]\n",
      "1 [22.649]\n",
      "1 [26.831]\n",
      "1 [15.918]\n",
      "1 [21.845]\n",
      "1 [25.001]\n",
      "1 [29.83]\n",
      "1 [24.375]\n",
      "1 [26.378]\n"
     ]
    }
   ],
   "source": [
    "# normal prediction\n",
    "lof = LocalOutlierFactor()\n",
    "inputs = normal.values[0].reshape(-1, 1)\n",
    "\n",
    "prediction = lof.fit_predict(inputs)\n",
    "if -1 not in prediction:\n",
    "    print('normal')\n",
    "else:\n",
    "    print('abnormal')\n",
    "    \n",
    "for i,j in zip(prediction, inputs):\n",
    "    print(i,j)"
   ]
  },
  {
   "cell_type": "code",
   "execution_count": 7,
   "metadata": {
    "scrolled": true
   },
   "outputs": [
    {
     "data": {
      "image/png": "[encoded data removed]",
      "text/plain": [
       "<Figure size 432x288 with 1 Axes>"
      ]
     },
     "metadata": {
      "needs_background": "light"
     },
     "output_type": "display_data"
    }
   ],
   "source": [
    "# for graph\n",
    "outlier = []\n",
    "inlier = []\n",
    "for i, j in zip(inputs, prediction):\n",
    "    if j==-1:\n",
    "        outlier.append(float(i[0]))\n",
    "    else:\n",
    "        inlier.append(float(i[0]))\n",
    "plt.title('No Outliers')\n",
    "plt.scatter(inlier, inlier, color='b')\n",
    "plt.scatter(outlier, outlier, color='r')\n",
    "plt.show()"
   ]
  },
  {
   "cell_type": "code",
   "execution_count": 8,
   "metadata": {
    "scrolled": true
   },
   "outputs": [
    {
     "name": "stdout",
     "output_type": "stream",
     "text": [
      "abnormal\n",
      "1 [10.434]\n",
      "1 [9.54]\n",
      "1 [9.876]\n",
      "1 [9.771]\n",
      "-1 [3.361] May_2015\n",
      "-1 [4.777] June_2015\n",
      "-1 [3.12] July_2015\n",
      "-1 [5.755] August_2015\n",
      "-1 [7.855] September_2015\n",
      "1 [9.982]\n",
      "1 [10.452]\n",
      "1 [10.241]\n",
      "1 [13.07]\n",
      "1 [13.676]\n",
      "1 [15.092]\n",
      "1 [14.561]\n",
      "1 [13.001]\n",
      "1 [14.243]\n",
      "1 [14.149]\n",
      "1 [13.468]\n",
      "1 [12.469]\n",
      "1 [13.295]\n",
      "1 [13.425]\n",
      "1 [13.738]\n",
      "1 [11.504]\n",
      "1 [10.869]\n",
      "1 [11.476]\n",
      "1 [11.652]\n",
      "1 [12.232]\n",
      "1 [11.843]\n",
      "1 [11.65]\n",
      "1 [10.861]\n",
      "1 [10.63]\n",
      "1 [10.879]\n",
      "1 [11.445]\n",
      "1 [12.081]\n"
     ]
    }
   ],
   "source": [
    "# abnormal prediction\n",
    "lof = LocalOutlierFactor()\n",
    "inputs = abnormal.values[0].reshape(-1, 1)\n",
    "\n",
    "columnList = abnormal.columns.to_list()\n",
    "\n",
    "prediction = lof.fit_predict(inputs)\n",
    "if -1 not in prediction:\n",
    "    print('normal')\n",
    "else:\n",
    "    print('abnormal')\n",
    "\n",
    "# display month and year if result is abnormal\n",
    "for i in range(len(inputs)):\n",
    "    if prediction[i]!=-1:\n",
    "        print(prediction[i], inputs[i])\n",
    "    else:\n",
    "        print(prediction[i], inputs[i], columnList[i])"
   ]
  },
  {
   "cell_type": "code",
   "execution_count": 9,
   "metadata": {},
   "outputs": [
    {
     "data": {
      "image/png": "[encoded data removed]",
      "text/plain": [
       "<Figure size 432x288 with 1 Axes>"
      ]
     },
     "metadata": {
      "needs_background": "light"
     },
     "output_type": "display_data"
    }
   ],
   "source": [
    "# for graph\n",
    "outlier = []\n",
    "inlier = []\n",
    "for i, j in zip(inputs, prediction):\n",
    "    if j==-1:\n",
    "        outlier.append(float(i[0]))\n",
    "    else:\n",
    "        inlier.append(float(i[0]))\n",
    "\n",
    "plt.title('With Outliers')\n",
    "plt.scatter(inlier, inlier, color='b')\n",
    "plt.scatter(outlier, outlier, color='r')\n",
    "plt.show()"
   ]
  },
  {
   "cell_type": "code",
   "execution_count": 10,
   "metadata": {},
   "outputs": [
    {
     "name": "stdout",
     "output_type": "stream",
     "text": [
      "Accuracy: 90.03322259136213\n",
      "Classified Normal as Normal: 121\n",
      "Classified Abnormal as Abnormal: 150\n",
      "Classified Normal as Abnormal: 30\n",
      "Classified Abnormal as Normal: 0\n"
     ]
    }
   ],
   "source": [
    "# getting accuracy and other evaulation metrics\n",
    "\n",
    "X = combined.drop(['Target'], axis=1)\n",
    "y = combined['Target']\n",
    "\n",
    "lof = LocalOutlierFactor()\n",
    "\n",
    "# getting prediction per input in the dataset\n",
    "pred = []\n",
    "for i in range(len(X)):\n",
    "    inputs = X.values[i].reshape(-1, 1)\n",
    "    prediction = lof.fit_predict(inputs)\n",
    "    if -1 not in prediction : \n",
    "        pred.append('Normal')\n",
    "    else:\n",
    "        pred.append('Abnormal')\n",
    "        \n",
    "n = 0 # normal\n",
    "a = 0 # abnormal\n",
    "na = 0 # normal classified as abnormal\n",
    "an = 0 # abnormal classified as normal\n",
    "score = 0 # score for accuracy\n",
    "\n",
    "for i, j in zip(y, pred):\n",
    "    # get accuracY\n",
    "    if i==j:\n",
    "        score+=1\n",
    "    \n",
    "    # get confusion matrix\n",
    "    if i==j and i=='Normal':\n",
    "        n+=1\n",
    "    elif i==j and i=='Abnormal':\n",
    "        a+=1\n",
    "    elif i!=j and i=='Normal':\n",
    "        na+=1\n",
    "    elif i!=j and i=='Abnormal':\n",
    "        an+=1\n",
    "\n",
    "print('Accuracy: '+str((score/len(X))*100))\n",
    "print('Classified Normal as Normal: '+str(n))\n",
    "print('Classified Abnormal as Abnormal: '+str(a))\n",
    "print('Classified Normal as Abnormal: '+str(na))\n",
    "print('Classified Abnormal as Normal: '+str(an))"
   ]
  },
  {
   "cell_type": "code",
   "execution_count": 11,
   "metadata": {},
   "outputs": [
    {
     "name": "stdout",
     "output_type": "stream",
     "text": [
      "Stop 1 prediction output: [1 1 1 1 1 1 1 1 1 1 1 1 1 1 1 1 1 1 1 1 1 1 1 1 1 1 1 1 1 1 1 1 1 1 1 1]\n",
      "Stop 2 prediction output: Normal\n",
      "Training and Predict Time1: 0.003989219665527344s\n",
      "Training and Predict Time2: 0.003989219665527344s\n"
     ]
    }
   ],
   "source": [
    "customInput = [['17.135', '15.972', '25.729', '17.787', '17.286', '21.169',\n",
    "       '28.685', '21.328', '17.818', '21.667', '17.616', '22.182',\n",
    "       '27.491', '27.953', '17.645', '26.142', '24.72', '26.346',\n",
    "       '20.361', '18.388', '24.114', '20.071', '19.106', '22.04',\n",
    "       '27.666', '28.388', '20.047', '20.655', '22.649', '26.831',\n",
    "       '15.918', '21.845', '25.001', '29.83', '24.375', '26.378']]\n",
    "\n",
    "lof = LocalOutlierFactor()\n",
    "inputs = np.array(customInput).reshape(-1, 1)\n",
    "\n",
    "\n",
    "start = time.time() # start timer\n",
    "prediction = lof.fit_predict(inputs)\n",
    "print('Stop 1 prediction output: ' + str(prediction))\n",
    "stop1 = time.time() # end timer\n",
    "if -1 not in prediction:\n",
    "    print('Stop 2 prediction output: ' + str('Normal'))\n",
    "else:\n",
    "    print('Stop 2 prediction: ' + str('Abnormal'))\n",
    "stop2 = time.time() # end timer\n",
    "    \n",
    "\n",
    "print(f'Training and Predict Time1: {stop1-start}s')\n",
    "print(f'Training and Predict Time2: {stop2-start}s')"
   ]
  },
  {
   "cell_type": "markdown",
   "metadata": {},
   "source": [
    "## Training Time"
   ]
  },
  {
   "cell_type": "code",
   "execution_count": 23,
   "metadata": {},
   "outputs": [
    {
     "name": "stdout",
     "output_type": "stream",
     "text": [
      "Training Time: 0.006980180740356445s\n"
     ]
    }
   ],
   "source": [
    "start = time.time() # start timer\n",
    "prediction = lof.fit(X)\n",
    "stop = time.time() # end timer\n",
    "print(f'Training Time: {stop-start}s')"
   ]
  },
  {
   "cell_type": "markdown",
   "metadata": {},
   "source": [
    "## Confusion Matrix"
   ]
  },
  {
   "cell_type": "code",
   "execution_count": 24,
   "metadata": {},
   "outputs": [
    {
     "data": {
      "image/png": "[encoded data removed]",
      "text/plain": [
       "<Figure size 432x288 with 2 Axes>"
      ]
     },
     "metadata": {
      "needs_background": "light"
     },
     "output_type": "display_data"
    }
   ],
   "source": [
    "conf_matrix = confusion_matrix(y, pred)\n",
    "sns.heatmap(conf_matrix, annot=True,cmap='Blues', fmt='g')\n",
    "plt.show()"
   ]
  }
 ],
 "metadata": {
  "kernelspec": {
   "display_name": "Python 3",
   "language": "python",
   "name": "python3"
  },
  "language_info": {
   "codemirror_mode": {
    "name": "ipython",
    "version": 3
   },
   "file_extension": ".py",
   "mimetype": "text/x-python",
   "name": "python",
   "nbconvert_exporter": "python",
   "pygments_lexer": "ipython3",
   "version": "3.7.5"
  }
 },
 "nbformat": 4,
 "nbformat_minor": 5
}
